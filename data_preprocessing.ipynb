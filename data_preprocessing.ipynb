{
 "cells": [
  {
   "cell_type": "markdown",
   "metadata": {},
   "source": [
    "# Real-time Recommendation System for E-commerce\n"
   ]
  },
  {
   "cell_type": "markdown",
   "metadata": {},
   "source": [
    "*In this notebook, we will create a real-time recommendation system for an e-commerce platform. The system will use collaborative filtering to provide product recommendations based on a user's recent browsing or purchase history.*"
   ]
  },
  {
   "cell_type": "markdown",
   "metadata": {},
   "source": [
    "## 1. Data Collection and Preprocessing"
   ]
  },
  {
   "cell_type": "code",
   "execution_count": 1,
   "metadata": {},
   "outputs": [],
   "source": [
    "import pandas as pd\n",
    "\n",
    "# Load dataset with specified dtype to avoid DtypeWarning\n",
    "data = pd.read_csv('ratings_Electronics.csv', dtype={'column_name': str}, low_memory=False)"
   ]
  },
  {
   "cell_type": "code",
   "execution_count": 2,
   "metadata": {},
   "outputs": [
    {
     "data": {
      "text/html": [
       "<div>\n",
       "<style scoped>\n",
       "    .dataframe tbody tr th:only-of-type {\n",
       "        vertical-align: middle;\n",
       "    }\n",
       "\n",
       "    .dataframe tbody tr th {\n",
       "        vertical-align: top;\n",
       "    }\n",
       "\n",
       "    .dataframe thead th {\n",
       "        text-align: right;\n",
       "    }\n",
       "</style>\n",
       "<table border=\"1\" class=\"dataframe\">\n",
       "  <thead>\n",
       "    <tr style=\"text-align: right;\">\n",
       "      <th></th>\n",
       "      <th>AKM1MP6P0OYPR</th>\n",
       "      <th>0132793040</th>\n",
       "      <th>5.0</th>\n",
       "      <th>1365811200</th>\n",
       "    </tr>\n",
       "  </thead>\n",
       "  <tbody>\n",
       "    <tr>\n",
       "      <th>0</th>\n",
       "      <td>A2CX7LUOHB2NDG</td>\n",
       "      <td>0321732944</td>\n",
       "      <td>5.0</td>\n",
       "      <td>1341100800</td>\n",
       "    </tr>\n",
       "    <tr>\n",
       "      <th>1</th>\n",
       "      <td>A2NWSAGRHCP8N5</td>\n",
       "      <td>0439886341</td>\n",
       "      <td>1.0</td>\n",
       "      <td>1367193600</td>\n",
       "    </tr>\n",
       "    <tr>\n",
       "      <th>2</th>\n",
       "      <td>A2WNBOD3WNDNKT</td>\n",
       "      <td>0439886341</td>\n",
       "      <td>3.0</td>\n",
       "      <td>1374451200</td>\n",
       "    </tr>\n",
       "    <tr>\n",
       "      <th>3</th>\n",
       "      <td>A1GI0U4ZRJA8WN</td>\n",
       "      <td>0439886341</td>\n",
       "      <td>1.0</td>\n",
       "      <td>1334707200</td>\n",
       "    </tr>\n",
       "    <tr>\n",
       "      <th>4</th>\n",
       "      <td>A1QGNMC6O1VW39</td>\n",
       "      <td>0511189877</td>\n",
       "      <td>5.0</td>\n",
       "      <td>1397433600</td>\n",
       "    </tr>\n",
       "  </tbody>\n",
       "</table>\n",
       "</div>"
      ],
      "text/plain": [
       "    AKM1MP6P0OYPR  0132793040  5.0  1365811200\n",
       "0  A2CX7LUOHB2NDG  0321732944  5.0  1341100800\n",
       "1  A2NWSAGRHCP8N5  0439886341  1.0  1367193600\n",
       "2  A2WNBOD3WNDNKT  0439886341  3.0  1374451200\n",
       "3  A1GI0U4ZRJA8WN  0439886341  1.0  1334707200\n",
       "4  A1QGNMC6O1VW39  0511189877  5.0  1397433600"
      ]
     },
     "execution_count": 2,
     "metadata": {},
     "output_type": "execute_result"
    }
   ],
   "source": [
    "# Preview Dataset\n",
    "data.head()"
   ]
  },
  {
   "cell_type": "code",
   "execution_count": 3,
   "metadata": {},
   "outputs": [],
   "source": [
    "# Add headers manually\n",
    "data.columns = ['userId', 'itemId', 'rating', 'timestamp']"
   ]
  },
  {
   "cell_type": "code",
   "execution_count": 4,
   "metadata": {},
   "outputs": [],
   "source": [
    "# Ensure userId and itemId are treated as strings\n",
    "data['userId'] = data['userId'].astype(str)\n",
    "data['itemId'] = data['itemId'].astype(str)"
   ]
  },
  {
   "cell_type": "code",
   "execution_count": 5,
   "metadata": {},
   "outputs": [],
   "source": [
    "# Save preprocessed data\n",
    "data.to_csv('preprocessed_data.csv', index=False)"
   ]
  },
  {
   "cell_type": "code",
   "execution_count": 6,
   "metadata": {},
   "outputs": [
    {
     "name": "stdout",
     "output_type": "stream",
     "text": [
      "           userId      itemId  rating   timestamp\n",
      "0  A2CX7LUOHB2NDG  0321732944     5.0  1341100800\n",
      "1  A2NWSAGRHCP8N5  0439886341     1.0  1367193600\n",
      "2  A2WNBOD3WNDNKT  0439886341     3.0  1374451200\n",
      "3  A1GI0U4ZRJA8WN  0439886341     1.0  1334707200\n",
      "4  A1QGNMC6O1VW39  0511189877     5.0  1397433600\n"
     ]
    }
   ],
   "source": [
    "# Show a preview of the dataset\n",
    "print(data.head())"
   ]
  },
  {
   "cell_type": "markdown",
   "metadata": {},
   "source": [
    "## 2. Building the Recommendation Model"
   ]
  },
  {
   "cell_type": "code",
   "execution_count": 10,
   "metadata": {},
   "outputs": [],
   "source": [
    "# Train the model using the surprise library.\n",
    "from surprise import Dataset, Reader, SVD\n",
    "from surprise.model_selection import train_test_split, cross_validate\n",
    "import joblib"
   ]
  },
  {
   "cell_type": "code",
   "execution_count": 12,
   "metadata": {},
   "outputs": [],
   "source": [
    "# Load preprocessed data with specified dtype to avoid DtypeWarning\n",
    "data = pd.read_csv('preprocessed_data.csv', dtype={'timestamp': str})"
   ]
  },
  {
   "cell_type": "code",
   "execution_count": 13,
   "metadata": {},
   "outputs": [],
   "source": [
    "# Sample 10% of the data for quick iterations\n",
    "data_sample = data.sample(frac=0.01, random_state=42)  # Reduced sample size to 1% to avoid MemoryError"
   ]
  },
  {
   "cell_type": "code",
   "execution_count": 14,
   "metadata": {},
   "outputs": [],
   "source": [
    "# Load data into Surprise's format\n",
    "reader = Reader(rating_scale=(1, 5))\n",
    "data = Dataset.load_from_df(data_sample[['userId', 'itemId', 'rating']], reader)"
   ]
  },
  {
   "cell_type": "code",
   "execution_count": 15,
   "metadata": {},
   "outputs": [],
   "source": [
    "# Split the data into training and test sets\n",
    "trainset, testset = train_test_split(data, test_size=0.2)"
   ]
  },
  {
   "cell_type": "code",
   "execution_count": 16,
   "metadata": {},
   "outputs": [
    {
     "data": {
      "text/plain": [
       "<surprise.prediction_algorithms.matrix_factorization.SVD at 0x24b35e47dc0>"
      ]
     },
     "execution_count": 16,
     "metadata": {},
     "output_type": "execute_result"
    }
   ],
   "source": [
    "# Train the model using SVD algorithm\n",
    "algo = SVD()\n",
    "algo.fit(trainset)"
   ]
  },
  {
   "cell_type": "code",
   "execution_count": 17,
   "metadata": {},
   "outputs": [
    {
     "name": "stdout",
     "output_type": "stream",
     "text": [
      "Evaluating RMSE, MAE of algorithm SVD on 5 split(s).\n",
      "\n",
      "                  Fold 1  Fold 2  Fold 3  Fold 4  Fold 5  Mean    Std     \n",
      "RMSE (testset)    1.3731  1.3750  1.3441  1.3628  1.3777  1.3665  0.0123  \n",
      "MAE (testset)     1.0894  1.0865  1.0688  1.0852  1.0931  1.0846  0.0083  \n",
      "Fit time          2.35    2.24    2.16    2.13    2.32    2.24    0.08    \n",
      "Test time         0.83    0.21    0.22    0.22    0.25    0.35    0.24    \n"
     ]
    },
    {
     "data": {
      "text/plain": [
       "{'test_rmse': array([1.37306724, 1.37500978, 1.34414426, 1.36283959, 1.37768155]),\n",
       " 'test_mae': array([1.08944339, 1.08647884, 1.06883478, 1.08516367, 1.09310232]),\n",
       " 'fit_time': (2.346205472946167,\n",
       "  2.2405850887298584,\n",
       "  2.161440372467041,\n",
       "  2.134302854537964,\n",
       "  2.3206117153167725),\n",
       " 'test_time': (0.833310604095459,\n",
       "  0.20900344848632812,\n",
       "  0.21633267402648926,\n",
       "  0.22399663925170898,\n",
       "  0.24569296836853027)}"
      ]
     },
     "execution_count": 17,
     "metadata": {},
     "output_type": "execute_result"
    }
   ],
   "source": [
    "# Evaluate the model\n",
    "cross_validate(algo, data, measures=['RMSE', 'MAE'], cv=5, verbose=True)"
   ]
  },
  {
   "cell_type": "code",
   "execution_count": 18,
   "metadata": {},
   "outputs": [
    {
     "data": {
      "text/plain": [
       "['svd_model.pkl']"
      ]
     },
     "execution_count": 18,
     "metadata": {},
     "output_type": "execute_result"
    }
   ],
   "source": [
    "# Save the trained model\n",
    "joblib.dump(algo, 'svd_model.pkl')"
   ]
  },
  {
   "cell_type": "code",
   "execution_count": null,
   "metadata": {},
   "outputs": [],
   "source": []
  }
 ],
 "metadata": {
  "kernelspec": {
   "display_name": "recommender_env",
   "language": "python",
   "name": "python3"
  },
  "language_info": {
   "codemirror_mode": {
    "name": "ipython",
    "version": 3
   },
   "file_extension": ".py",
   "mimetype": "text/x-python",
   "name": "python",
   "nbconvert_exporter": "python",
   "pygments_lexer": "ipython3",
   "version": "3.9.21"
  }
 },
 "nbformat": 4,
 "nbformat_minor": 2
}
